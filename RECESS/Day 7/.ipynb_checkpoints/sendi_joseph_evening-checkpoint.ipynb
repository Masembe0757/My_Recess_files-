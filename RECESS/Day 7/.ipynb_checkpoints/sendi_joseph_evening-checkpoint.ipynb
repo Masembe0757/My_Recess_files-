{
 "cells": [
  {
   "cell_type": "code",
   "execution_count": 6,
   "id": "ea67c207",
   "metadata": {},
   "outputs": [
    {
     "name": "stdout",
     "output_type": "stream",
     "text": [
      "Empty DataFrame\n",
      "Columns: []\n",
      "Index: []\n"
     ]
    }
   ],
   "source": [
    "import pandas as pd\n",
    "df = pd.DataFrame()\n",
    "print(df)"
   ]
  },
  {
   "cell_type": "code",
   "execution_count": 3,
   "id": "7f6f42e7",
   "metadata": {},
   "outputs": [
    {
     "name": "stdout",
     "output_type": "stream",
     "text": [
      "0    2\n",
      "1    3\n",
      "2    4\n",
      "3    6\n",
      "4    7\n",
      "5    8\n",
      "dtype: int64\n"
     ]
    }
   ],
   "source": [
    "mydata = [2,3,4,6,7,8,]\n",
    "m = pd.Series(mydata)\n",
    "print(m)"
   ]
  },
  {
   "cell_type": "code",
   "execution_count": 4,
   "id": "fd8598d8",
   "metadata": {},
   "outputs": [
    {
     "name": "stdout",
     "output_type": "stream",
     "text": [
      "one      1\n",
      "two      2\n",
      "three    3\n",
      "four     4\n",
      "dtype: int64\n"
     ]
    }
   ],
   "source": [
    "dic = {\"one\":1,\"two\":2,\"three\":3,\"four\":4}\n",
    "dict = pd.Series(dic)\n",
    "print(dict)"
   ]
  },
  {
   "cell_type": "code",
   "execution_count": 10,
   "id": "0c1620c5",
   "metadata": {},
   "outputs": [
    {
     "name": "stdout",
     "output_type": "stream",
     "text": [
      "wednesday     {8th, 5th}\n",
      "Thursday      {9th, 6th}\n",
      "Friday       {7th, 10th}\n",
      "dtype: object\n"
     ]
    }
   ],
   "source": [
    "dates_days = {\"wednesday\":{\"5th\",\"8th\"},\"Thursday\":{\"6th\",\"9th\"},\"Friday\":{\"7th\",\"10th\"}}\n",
    "print(pd.Series(dates_days))\n"
   ]
  },
  {
   "cell_type": "code",
   "execution_count": null,
   "id": "cdebda09",
   "metadata": {},
   "outputs": [],
   "source": []
  }
 ],
 "metadata": {
  "kernelspec": {
   "display_name": "Python 3 (ipykernel)",
   "language": "python",
   "name": "python3"
  },
  "language_info": {
   "codemirror_mode": {
    "name": "ipython",
    "version": 3
   },
   "file_extension": ".py",
   "mimetype": "text/x-python",
   "name": "python",
   "nbconvert_exporter": "python",
   "pygments_lexer": "ipython3",
   "version": "3.10.6"
  }
 },
 "nbformat": 4,
 "nbformat_minor": 5
}
